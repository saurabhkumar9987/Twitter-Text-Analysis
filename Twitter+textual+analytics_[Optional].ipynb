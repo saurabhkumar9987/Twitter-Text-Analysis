{
 "cells": [
  {
   "cell_type": "markdown",
   "metadata": {},
   "source": [
    "# Twitter HOWTO"
   ]
  },
  {
   "cell_type": "markdown",
   "metadata": {},
   "source": [
    "## Overview\n",
    "\n",
    "This document is an overview of how to use NLTK to collect and process Twitter data. It was adapted from the NLTK GitHub repository (http://www.nltk.org/howto/twitter.html)."
   ]
  },
  {
   "cell_type": "markdown",
   "metadata": {},
   "source": [
    "## <a name=\"first_steps\">First Steps</a>\n",
    "\n",
    "In order to collect data from Twitter, you first need to register a new *application* &mdash; this is Twitter's way of referring to any computer program that interacts with the Twitter API. Alternatively, if you just want to play around with the Twitter data that is distributed as part of NLTK, head over to the section on using the [`twitter-samples` corpus reader](#corpus_reader)."
   ]
  },
  {
   "cell_type": "markdown",
   "metadata": {},
   "source": [
    "### <a name=\"twython\">Install Twython</a>\n",
    "\n",
    "The NLTK Twitter package relies on a third party library called [Twython](https://twython.readthedocs.org/). Install Twython via [pip](https://pip.pypa.io):\n",
    "```bash\n",
    "$ pip install twython\n",
    "```\n",
    "\n",
    "or with [easy_install](https://pythonhosted.org/setuptools/easy_install.html):\n",
    "\n",
    "```bash\n",
    "$ easy_install twython\n",
    "```"
   ]
  },
  {
   "cell_type": "code",
   "execution_count": 1,
   "metadata": {
    "collapsed": false
   },
   "outputs": [
    {
     "name": "stdout",
     "output_type": "stream",
     "text": [
      "Requirement already satisfied (use --upgrade to upgrade): twython in c:\\anaconda2\\lib\\site-packages\n",
      "Requirement already satisfied (use --upgrade to upgrade): requests-oauthlib>=0.4.0 in c:\\anaconda2\\lib\\site-packages (from twython)\n",
      "Requirement already satisfied (use --upgrade to upgrade): requests>=2.1.0 in c:\\anaconda2\\lib\\site-packages (from twython)\n",
      "Requirement already satisfied (use --upgrade to upgrade): oauthlib>=0.6.2 in c:\\anaconda2\\lib\\site-packages (from requests-oauthlib>=0.4.0->twython)\n"
     ]
    }
   ],
   "source": [
    "!pip install twython"
   ]
  },
  {
   "cell_type": "markdown",
   "metadata": {},
   "source": [
    "## <a name=\"simple\">Using the simple `Twitter` class</a>\n",
    "\n",
    "### Dipping into the Public Stream\n",
    "\n",
    "The `Twitter` class is intended as a simple means of interacting with the Twitter data stream. "
   ]
  },
  {
   "cell_type": "code",
   "execution_count": 2,
   "metadata": {
    "collapsed": false
   },
   "outputs": [
    {
     "name": "stdout",
     "output_type": "stream",
     "text": [
      "Reading credentials file D:\\Dropbox\\UMN\\Teaching\\Predictive Analytics\\Fall 2016\\Code\\twitterCredentials.txt\n",
      "Credentials file \"twitterCredentials.txt\" looks good\n"
     ]
    }
   ],
   "source": [
    "from nltk.twitter import credsfromfile, Query\n",
    "\n",
    "oauth = credsfromfile(creds_file=\"twitterCredentials.txt\", subdir=\"D:\\\\Dropbox\\\\UMN\\\\Teaching\\\\Predictive Analytics\\\\Fall 2016\\\\Code\", verbose=True)\n",
    "client = Query(**oauth)"
   ]
  },
  {
   "cell_type": "code",
   "execution_count": 3,
   "metadata": {
    "collapsed": false
   },
   "outputs": [
    {
     "name": "stdout",
     "output_type": "stream",
     "text": [
      "{u'contributors': None,\n",
      " u'coordinates': None,\n",
      " u'created_at': u'Mon Oct 31 21:11:44 +0000 2016',\n",
      " u'entities': {...},\n",
      " u'favorite_count': 0,\n",
      " u'favorited': False,\n",
      " u'geo': None,\n",
      " u'id': 793198795932704768L,\n",
      " u'id_str': u'793198795932704768',\n",
      " u'in_reply_to_screen_name': None,\n",
      " u'in_reply_to_status_id': None,\n",
      " u'in_reply_to_status_id_str': None,\n",
      " u'in_reply_to_user_id': None,\n",
      " u'in_reply_to_user_id_str': None,\n",
      " u'is_quote_status': False,\n",
      " u'lang': u'en',\n",
      " u'metadata': {...},\n",
      " u'place': None,\n",
      " u'retweet_count': 1,\n",
      " u'retweeted': False,\n",
      " u'retweeted_status': {...},\n",
      " u'source': u'<a href=\"http://twitter.com/download/iphone\" rel=\"nofollow\">Twitter for iPhone</a>',\n",
      " u'text': u\"RT @itgoeszaysway: Don't like Hilary Clinton but I hate Donald Trump... So yea..\\U0001f643\",\n",
      " u'truncated': False,\n",
      " u'user': {...}}\n"
     ]
    }
   ],
   "source": [
    "tweets = client.search_tweets(keywords='hilary clinton, donald trump', limit=10)\n",
    "tweet = next(tweets)\n",
    "\n",
    "# Twitter's own documentation provides a useful overview of all the fields in the JSON object (https://dev.twitter.com/overview/api/tweets).\n",
    "# Since each Tweet is converted into a Python dictionary, it's straightforward to just show a selected field, \n",
    "# such as the value of the `'text'` key.\n",
    "from pprint import pprint\n",
    "pprint(tweet, depth=1)"
   ]
  },
  {
   "cell_type": "code",
   "execution_count": 4,
   "metadata": {
    "collapsed": false
   },
   "outputs": [
    {
     "name": "stdout",
     "output_type": "stream",
     "text": [
      "Sooooooo tired of hearing about Donald trump and Hilary Clinton\n",
      "\n",
      "Don't like Hilary Clinton but I hate Donald Trump... So yea..🙃\n",
      "\n",
      "RT @penguin_univers: UNBELIEVABLE! HILARY CLINTON AND DONALD TRUMP SPOTTED AT LOCAL HIGH SCHOOL! https://t.co/z3CoYTAa55\n",
      "\n",
      "RT @V_of_Europe: Donald Trump will win US Presidential election, predicts hugely accurate AI machine https://t.co/Ct6WmAdImn https://t.co/h…\n",
      "\n",
      "RT @penguin_univers: UNBELIEVABLE! HILARY CLINTON AND DONALD TRUMP SPOTTED AT LOCAL HIGH SCHOOL! https://t.co/z3CoYTAa55\n",
      "\n",
      "Does anybody have a or know anybody with a Hilary Clinton or Donald Trump face mask I need it NOT for today.\n",
      "\n",
      "RT @penguin_univers: UNBELIEVABLE! HILARY CLINTON AND DONALD TRUMP SPOTTED AT LOCAL HIGH SCHOOL! https://t.co/z3CoYTAa55\n",
      "\n",
      "RT @_Ungagged: Ungagged USA! Podcast-\"The Trumpet Tower of Clinton Cards\" https://t.co/5vFrA8as4Q #POTUS2016 #yes2 #punjab #trump #clinton…\n",
      "\n",
      "UNBELIEVABLE! HILARY CLINTON AND DONALD TRUMP SPOTTED AT LOCAL HIGH SCHOOL! https://t.co/z3CoYTAa55\n",
      "\n"
     ]
    }
   ],
   "source": [
    "for tweet in tweets:\n",
    "    print(tweet['text'])\n",
    "    print(\"\")"
   ]
  },
  {
   "cell_type": "code",
   "execution_count": 5,
   "metadata": {
    "collapsed": false,
    "scrolled": true
   },
   "outputs": [
    {
     "name": "stdout",
     "output_type": "stream",
     "text": [
      "(u\"RT @itgoeszaysway: Don't like Hilary Clinton but I hate Donald Trump... So yea..\\U0001f643\", {u'score': u'-0.851597', u'type': u'negative'})\n"
     ]
    }
   ],
   "source": [
    "#!pip install unirest\n",
    "import unirest\n",
    "\n",
    "mashapeKey = open('D:\\\\Dropbox\\\\UMN\\\\Teaching\\\\Predictive Analytics\\\\Fall 2016\\\\Code\\\\mashapeKey.txt', 'r').read().strip()\n",
    "\n",
    "tweets = client.search_tweets(keywords='hilary clinton, donald trump', limit=1)\n",
    "for tweet in tweets:\n",
    "    apiurl = \"https://alchemy.p.mashape.com/text/TextGetTextSentiment?outputMode=json&showSourceText=false&text=\"+tweet['text'].encode(\"ascii\", \"ignore\")\n",
    "    #print apiurl\n",
    "    response = unirest.get(apiurl,\n",
    "      headers={\n",
    "        \"X-Mashape-Key\": mashapeKey,\n",
    "        \"Accept\": \"text/plain\"\n",
    "      }\n",
    "    )\n",
    "    print(tweet['text'], response.body[\"docSentiment\"])  "
   ]
  },
  {
   "cell_type": "markdown",
   "metadata": {},
   "source": [
    "### <a name=\"streaming\">Using the streaming API</a>\n",
    "\n",
    "For more detail, you can see this blog post on [The difference between the Twitter Firehose API, the Twitter Search API, and the Twitter Streaming API](http://www.brightplanet.com/2013/06/twitter-firehose-vs-twitter-api-whats-the-difference-and-why-should-you-care/)"
   ]
  },
  {
   "cell_type": "code",
   "execution_count": 6,
   "metadata": {
    "collapsed": false
   },
   "outputs": [
    {
     "name": "stdout",
     "output_type": "stream",
     "text": [
      "@SenateGOP A truly strong, well-researched on Trump explains deception, lies&amp;racism going back to the 70s. https://t.co/E4DjPmzoVc\n",
      "RT @steph93065: All the prominent Republicans that are silent now are complicit in govt corruption and fear being exposed in a Trump admini…\n",
      "i am sure, after another PRIVATE MEETING with bill clinton, DOJ, lynch will make the final decision and this time,… https://t.co/X4i1a79USG\n",
      "@deusvulteuropa So you think Bernie and Clinton would have had significantly different stances on issues w/advanced ?'s ?\n",
      "RT @paulkrugman: There's a real scandal here -- but it's about Comey, not Clinton https://t.co/ZE11kaVIQt\n",
      "RT @FOX2News: Before #donaldtrump took the podium, Bobby Knight told the crowd there's 'no BS' with Trump. He didn't abbreviate. https://t.…\n",
      "sósia da hillary clinton senta na jaralha do padre num cinema com o filme da kéfera de fundo\n",
      "RT @chrislhayes: Trump's true innovation was showing how few voters actually crave the small government/let the market decide rhetoric, inc…\n",
      "RT @JohnFromCranber: Deplorable: #Hillary Accused Trump of Russian Entanglement. This From The Woman Who Sold USA Uranium to Russia #tcot h…\n",
      "‘Clinton’s black son’ to make ‘bombshell announcement’ https://t.co/hUvHzvdboZ via @worldnetdaily\n",
      "Written 10 Tweets\n"
     ]
    }
   ],
   "source": [
    "from nltk.twitter import Query, Streamer, Twitter, TweetViewer, TweetWriter, credsfromfile\n",
    "\n",
    "client = Streamer(**oauth)\n",
    "client.register(TweetViewer(limit=10))\n",
    "client.filter(track='clinton, trump')"
   ]
  },
  {
   "cell_type": "markdown",
   "metadata": {},
   "source": [
    "### <a name=\"sore\">Storing tweets</a>"
   ]
  },
  {
   "cell_type": "code",
   "execution_count": 7,
   "metadata": {
    "collapsed": false
   },
   "outputs": [
    {
     "name": "stdout",
     "output_type": "stream",
     "text": [
      "Writing to C:\\Users\\padam\\twitter-files\\tweets.20161031-161720.json\n",
      "Written 10 Tweets\n"
     ]
    }
   ],
   "source": [
    "# To store data that Twitter sents by the Streaming API, we register a `TweetWriter` instance.\n",
    "client = Streamer(**oauth)\n",
    "client.register(TweetWriter(limit=10))\n",
    "client.statuses.sample()"
   ]
  },
  {
   "cell_type": "markdown",
   "metadata": {},
   "source": [
    "## <a name=\"corpus_reader\">Using a Tweet Corpus from NLTK</a>\n",
    "\n",
    "NLTK's Twitter corpus currently contains a sample of 20k Tweets (named '`twitter_samples`')\n",
    "retrieved from the Twitter Streaming API, together with another 10k which are divided according to sentiment into negative and positive."
   ]
  },
  {
   "cell_type": "code",
   "execution_count": 8,
   "metadata": {
    "collapsed": false
   },
   "outputs": [
    {
     "data": {
      "text/plain": [
       "[u'negative_tweets.json',\n",
       " u'positive_tweets.json',\n",
       " u'tweets.20150430-223406.json']"
      ]
     },
     "execution_count": 8,
     "metadata": {},
     "output_type": "execute_result"
    }
   ],
   "source": [
    "from nltk.corpus import twitter_samples\n",
    "twitter_samples.fileids()"
   ]
  },
  {
   "cell_type": "code",
   "execution_count": 9,
   "metadata": {
    "collapsed": false,
    "scrolled": true
   },
   "outputs": [
    {
     "name": "stdout",
     "output_type": "stream",
     "text": [
      "RT @KirkKus: Indirect cost of the UK being in the EU is estimated to be costing Britain £170 billion per year! #BetterOffOut #UKIP\n",
      "VIDEO: Sturgeon on post-election deals http://t.co/BTJwrpbmOY\n",
      "RT @LabourEoin: The economy was growing 3 times faster on the day David Cameron became Prime Minister than it is today.. #BBCqt http://t.co…\n",
      "RT @GregLauder: the UKIP east lothian candidate looks about 16 and still has an msn addy http://t.co/7eIU0c5Fm1\n",
      "RT @thesundaypeople: UKIP's housing spokesman rakes in £800k in housing benefit from migrants.  http://t.co/GVwb9Rcb4w http://t.co/c1AZxcLh…\n",
      "RT @Nigel_Farage: Make sure you tune in to #AskNigelFarage tonight on BBC 1 at 22:50! #UKIP http://t.co/ogHSc2Rsr2\n",
      "RT @joannetallis: Ed Milliband is an embarrassment. Would you want him representing the UK?!  #bbcqt vote @Conservatives\n",
      "RT @abstex: The FT is backing the Tories. On an unrelated note, here's a photo of FT leader writer Jonathan Ford (next to Boris) http://t.c…\n",
      "RT @NivenJ1: “@George_Osborne: Ed Miliband proved tonight why he's not up to the job” Tbf you've spent 5 years doing that you salivating do…\n",
      "LOLZ to Trickle Down Wealth. It's never trickling past their own wallets. Greed always wins $$$ for the greedy.  https://t.co/X7deoPbS97\n",
      "SNP leader faces audience questions http://t.co/TYClKltSpW\n",
      "RT @cononeilluk: Cameron \"Ed Milliband hanging out with Russell Brand. He is a joke. This is an election. This is about real people' http:/…\n",
      "RT @politicshome: Ed Miliband: Last Labour government did not overspend http://t.co/W9RJ2aSH6o http://t.co/4myFekg5ex\n",
      "If Miliband is refusing to do any deal with the SNP, how does he plan on forming a government?\n",
      "RT @scotnotbritt: Well thats it. LABOUR would rather have a TORY government rather than work with the SNP. http://t.co/SNMkRDCe9f\n"
     ]
    }
   ],
   "source": [
    "strings = twitter_samples.strings('tweets.20150430-223406.json')\n",
    "for string in strings[:15]:\n",
    "    print(string)"
   ]
  },
  {
   "cell_type": "markdown",
   "metadata": {},
   "source": [
    "The default tokenizer for Tweets (`casual.py`) is specialised for 'casual' text, and\n",
    "the `tokenized()` method returns a list of lists of tokens."
   ]
  },
  {
   "cell_type": "code",
   "execution_count": 10,
   "metadata": {
    "collapsed": false
   },
   "outputs": [
    {
     "name": "stdout",
     "output_type": "stream",
     "text": [
      "[u'RT', u'@KirkKus', u':', u'Indirect', u'cost', u'of', u'the', u'UK', u'being', u'in', u'the', u'EU', u'is', u'estimated', u'to', u'be', u'costing', u'Britain', u'\\xa3', u'170', u'billion', u'per', u'year', u'!', u'#BetterOffOut', u'#UKIP']\n",
      "[u'VIDEO', u':', u'Sturgeon', u'on', u'post-election', u'deals', u'http://t.co/BTJwrpbmOY']\n",
      "[u'RT', u'@LabourEoin', u':', u'The', u'economy', u'was', u'growing', u'3', u'times', u'faster', u'on', u'the', u'day', u'David', u'Cameron', u'became', u'Prime', u'Minister', u'than', u'it', u'is', u'today', u'..', u'#BBCqt', u'http://t.co\\u2026']\n",
      "[u'RT', u'@GregLauder', u':', u'the', u'UKIP', u'east', u'lothian', u'candidate', u'looks', u'about', u'16', u'and', u'still', u'has', u'an', u'msn', u'addy', u'http://t.co/7eIU0c5Fm1']\n",
      "[u'RT', u'@thesundaypeople', u':', u\"UKIP's\", u'housing', u'spokesman', u'rakes', u'in', u'\\xa3', u'800k', u'in', u'housing', u'benefit', u'from', u'migrants', u'.', u'http://t.co/GVwb9Rcb4w', u'http://t.co/c1AZxcLh\\u2026']\n"
     ]
    }
   ],
   "source": [
    "tokenized = twitter_samples.tokenized('tweets.20150430-223406.json')\n",
    "for toks in tokenized[:5]:\n",
    "    print(toks)"
   ]
  }
 ],
 "metadata": {
  "anaconda-cloud": {},
  "celltoolbar": "Raw Cell Format",
  "kernelspec": {
   "display_name": "Python [default]",
   "language": "python",
   "name": "python3"
  },
  "language_info": {
   "codemirror_mode": {
    "name": "ipython",
    "version": 3
   },
   "file_extension": ".py",
   "mimetype": "text/x-python",
   "name": "python",
   "nbconvert_exporter": "python",
   "pygments_lexer": "ipython3",
   "version": "3.5.2"
  }
 },
 "nbformat": 4,
 "nbformat_minor": 0
}
